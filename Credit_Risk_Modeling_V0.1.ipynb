{
  "nbformat": 4,
  "nbformat_minor": 0,
  "metadata": {
    "colab": {
      "name": "Credit_Risk_Modeling.ipynb",
      "provenance": [],
      "collapsed_sections": []
    },
    "kernelspec": {
      "name": "python3",
      "display_name": "Python 3"
    }
  },
  "cells": [
    {
      "cell_type": "markdown",
      "metadata": {
        "id": "eO8hWxGAfT4j",
        "colab_type": "text"
      },
      "source": [
        "# Predicting the Probability of Default of potential Borrower\n",
        "\n",
        "\n",
        "## Credit Risk Modeling\n",
        "\n",
        "---"
      ]
    },
    {
      "cell_type": "markdown",
      "metadata": {
        "id": "7QsfkczBhyvS",
        "colab_type": "text"
      },
      "source": [
        "\n",
        "\n",
        "\n",
        "## Table of Contents"
      ]
    },
    {
      "cell_type": "markdown",
      "metadata": {
        "id": "4bdBJolTi2PS",
        "colab_type": "text"
      },
      "source": [
        "#### The Problem"
      ]
    },
    {
      "cell_type": "markdown",
      "metadata": {
        "id": "EB4SxXtM4v31",
        "colab_type": "text"
      },
      "source": [
        ">*   [Why loan defaulters is a problem?](https://https://colab.research.google.com/drive/1jKuIoX6YsxW6Bez9ahVNyP8wMa-xDaBo#scrollTo=ZX2IqfWVlFhp&line=2&uniqifier=1)\n",
        "\n"
      ]
    },
    {
      "cell_type": "markdown",
      "metadata": {
        "id": "pv6_-w12Cc28",
        "colab_type": "text"
      },
      "source": [
        "#### Examine the data"
      ]
    },
    {
      "cell_type": "markdown",
      "metadata": {
        "id": "sxFuGh6tClqB",
        "colab_type": "text"
      },
      "source": [
        "\n",
        "\n",
        ">* [Simple Inspection of Data](https://)\n",
        "\n",
        "\n",
        "\n",
        "\n"
      ]
    },
    {
      "cell_type": "markdown",
      "metadata": {
        "id": "ZX2IqfWVlFhp",
        "colab_type": "text"
      },
      "source": [
        "**The Problem:**\n",
        "\n",
        "People apply for loan in a bank. Bank employees processes each loan application manually and evaluate applicants application based on different factors like profession of applicant, age, debt on him/her, salary, Marital status etc.\n",
        "\n",
        "After analyzing all factors, bank decides whether to approve or reject his/her loan application. This is a tedious and time consuming process. There is certain possibility of human error too. \n",
        "\n",
        "For ex. Applicant A whose appliaction needs to be rejected based on his financial condition, default history and other factors but his application got approved. On the other hand, application of Applicants B needs to be approved as he/she has no debts and earning good salary etc., but his application got rejected. \n",
        "\n",
        "The reason could be that by mistake application's of both applicants got swapped or the person who is incharge of approving loan applications, is biased.\n",
        "\n",
        "In both cases, Bank has to bear some loss.\n",
        "\n",
        "Lets assume that both applicant need 1000 dollars loan from Bank. \n",
        "\n",
        "Applicant A :- Bank gave 1000 dollars loan to him and he got defaulted, then the total loss to bank is:- 1000 dollars.\n",
        "Applicant B :- Bank did not approve his/her loan application. If his/her had got approved, then Bank had earned 100 dollars  from this.\n",
        "\n",
        "The bank will be in more debt, if they approves a defaulters loan rather then rejecting a non-defaulters loan.\n",
        "In other words giving a loan to a bad customer marked as a good customer results in a greater cost to the bank than denying a loan to a good customer marked as a bad customer.\n",
        "\n",
        "In this project, we are developing a automated process, which will approve/reject all Loan applications, based on different factors. It will save a lot of time of the bank which was spent on manual process and help them to reduce the human errors and save Banks money by reducing the loan to defaulters.\n",
        "\n",
        "\n",
        "\n",
        "\n",
        "\n"
      ]
    },
    {
      "cell_type": "markdown",
      "metadata": {
        "id": "IB1RTjZ5Anet",
        "colab_type": "text"
      },
      "source": [
        ""
      ]
    },
    {
      "cell_type": "markdown",
      "metadata": {
        "id": "FdWi8Jjgp7Tx",
        "colab_type": "text"
      },
      "source": [
        "## **Import Packages**"
      ]
    },
    {
      "cell_type": "code",
      "metadata": {
        "id": "T1QMuoRNi4nv",
        "colab_type": "code",
        "colab": {
          "base_uri": "https://localhost:8080/",
          "height": 139
        },
        "outputId": "a0e54d91-cad4-4dfb-a5a2-8f169a237f1e"
      },
      "source": [
        "# import your libraries\n",
        "import seaborn as sns\n",
        "import pandas as pd\n",
        "import numpy as np\n",
        "\n",
        "%matplotlib inline\n",
        "import matplotlib.pyplot as plt\n",
        "\n",
        "\n",
        "from sklearn.model_selection import train_test_split\n",
        "from sklearn.impute import SimpleImputer\n",
        "from sklearn.compose import make_column_transformer\n",
        "from sklearn.preprocessing import LabelEncoder, OneHotEncoder, StandardScaler, MinMaxScaler\n",
        "from sklearn.model_selection import cross_val_score, RepeatedStratifiedKFold\n",
        "from sklearn.dummy import DummyClassifier\n",
        "from sklearn.linear_model import LogisticRegression\n",
        "from sklearn.svm import LinearSVC\n",
        "from sklearn.neighbors import KNeighborsClassifier\n",
        "from sklearn.tree import DecisionTreeClassifier\n",
        "\n",
        "from sklearn.metrics import make_scorer, fbeta_score\n",
        "from sklearn.metrics import confusion_matrix\n",
        "from imblearn.pipeline import Pipeline, make_pipeline\n",
        "from imblearn.under_sampling import RepeatedEditedNearestNeighbours\n",
        "from imblearn.under_sampling import EditedNearestNeighbours\n",
        "from sklearn.ensemble import ExtraTreesClassifier, RandomForestClassifier, GradientBoostingClassifier\n",
        "\n",
        "import warnings\n",
        "warnings.filterwarnings(\"ignore\")\n",
        "\n"
      ],
      "execution_count": 1,
      "outputs": [
        {
          "output_type": "stream",
          "text": [
            "/usr/local/lib/python3.6/dist-packages/statsmodels/tools/_testing.py:19: FutureWarning: pandas.util.testing is deprecated. Use the functions in the public API at pandas.testing instead.\n",
            "  import pandas.util.testing as tm\n",
            "/usr/local/lib/python3.6/dist-packages/sklearn/externals/six.py:31: FutureWarning: The module is deprecated in version 0.21 and will be removed in version 0.23 since we've dropped support for Python 2.7. Please rely on the official version of six (https://pypi.org/project/six/).\n",
            "  \"(https://pypi.org/project/six/).\", FutureWarning)\n",
            "/usr/local/lib/python3.6/dist-packages/sklearn/utils/deprecation.py:144: FutureWarning: The sklearn.neighbors.base module is  deprecated in version 0.22 and will be removed in version 0.24. The corresponding classes / functions should instead be imported from sklearn.neighbors. Anything that cannot be imported from sklearn.neighbors is now part of the private API.\n",
            "  warnings.warn(message, FutureWarning)\n"
          ],
          "name": "stderr"
        }
      ]
    },
    {
      "cell_type": "code",
      "metadata": {
        "id": "f_PX5lGvoPii",
        "colab_type": "code",
        "colab": {}
      },
      "source": [
        "__author__ = \"Samit Singh\"\n",
        "__email__ = \"samitsingh.85@gmail.com\""
      ],
      "execution_count": null,
      "outputs": []
    },
    {
      "cell_type": "markdown",
      "metadata": {
        "id": "fayidiYcoZsT",
        "colab_type": "text"
      },
      "source": [
        "### ---- 2 Load the data ----\n",
        "\n",
        "\n",
        "---"
      ]
    },
    {
      "cell_type": "code",
      "metadata": {
        "id": "sKYBoSXHoTul",
        "colab_type": "code",
        "colab": {}
      },
      "source": [
        "#load the data into a Pandas dataframe\n",
        "def load_csv(csv_file):\n",
        "    return pd.read_csv(csv_file)"
      ],
      "execution_count": 2,
      "outputs": []
    },
    {
      "cell_type": "code",
      "metadata": {
        "id": "odF_5ntEodJb",
        "colab_type": "code",
        "colab": {
          "base_uri": "https://localhost:8080/",
          "height": 224
        },
        "outputId": "3e71ab85-68cc-48a2-e6c5-ca4f0aa6602f"
      },
      "source": [
        "\n",
        "loan_df = load_csv('/content/feature_data.csv')\n",
        "loan_df.head()"
      ],
      "execution_count": 3,
      "outputs": [
        {
          "output_type": "execute_result",
          "data": {
            "text/html": [
              "<div>\n",
              "<style scoped>\n",
              "    .dataframe tbody tr th:only-of-type {\n",
              "        vertical-align: middle;\n",
              "    }\n",
              "\n",
              "    .dataframe tbody tr th {\n",
              "        vertical-align: top;\n",
              "    }\n",
              "\n",
              "    .dataframe thead th {\n",
              "        text-align: right;\n",
              "    }\n",
              "</style>\n",
              "<table border=\"1\" class=\"dataframe\">\n",
              "  <thead>\n",
              "    <tr style=\"text-align: right;\">\n",
              "      <th></th>\n",
              "      <th>person_age</th>\n",
              "      <th>person_income</th>\n",
              "      <th>person_home_ownership</th>\n",
              "      <th>person_emp_length</th>\n",
              "      <th>loan_intent</th>\n",
              "      <th>loan_grade</th>\n",
              "      <th>loan_amnt</th>\n",
              "      <th>loan_int_rate</th>\n",
              "      <th>loan_status</th>\n",
              "      <th>loan_percent_income</th>\n",
              "      <th>cb_person_default_on_file</th>\n",
              "      <th>cb_person_cred_hist_length</th>\n",
              "    </tr>\n",
              "  </thead>\n",
              "  <tbody>\n",
              "    <tr>\n",
              "      <th>0</th>\n",
              "      <td>22</td>\n",
              "      <td>59000</td>\n",
              "      <td>RENT</td>\n",
              "      <td>123.0</td>\n",
              "      <td>PERSONAL</td>\n",
              "      <td>D</td>\n",
              "      <td>35000</td>\n",
              "      <td>16.02</td>\n",
              "      <td>1</td>\n",
              "      <td>0.59</td>\n",
              "      <td>Y</td>\n",
              "      <td>3</td>\n",
              "    </tr>\n",
              "    <tr>\n",
              "      <th>1</th>\n",
              "      <td>21</td>\n",
              "      <td>9600</td>\n",
              "      <td>OWN</td>\n",
              "      <td>5.0</td>\n",
              "      <td>EDUCATION</td>\n",
              "      <td>B</td>\n",
              "      <td>1000</td>\n",
              "      <td>11.14</td>\n",
              "      <td>0</td>\n",
              "      <td>0.10</td>\n",
              "      <td>N</td>\n",
              "      <td>2</td>\n",
              "    </tr>\n",
              "    <tr>\n",
              "      <th>2</th>\n",
              "      <td>25</td>\n",
              "      <td>9600</td>\n",
              "      <td>MORTGAGE</td>\n",
              "      <td>1.0</td>\n",
              "      <td>MEDICAL</td>\n",
              "      <td>C</td>\n",
              "      <td>5500</td>\n",
              "      <td>12.87</td>\n",
              "      <td>1</td>\n",
              "      <td>0.57</td>\n",
              "      <td>N</td>\n",
              "      <td>3</td>\n",
              "    </tr>\n",
              "    <tr>\n",
              "      <th>3</th>\n",
              "      <td>23</td>\n",
              "      <td>65500</td>\n",
              "      <td>RENT</td>\n",
              "      <td>4.0</td>\n",
              "      <td>MEDICAL</td>\n",
              "      <td>C</td>\n",
              "      <td>35000</td>\n",
              "      <td>15.23</td>\n",
              "      <td>1</td>\n",
              "      <td>0.53</td>\n",
              "      <td>N</td>\n",
              "      <td>2</td>\n",
              "    </tr>\n",
              "    <tr>\n",
              "      <th>4</th>\n",
              "      <td>24</td>\n",
              "      <td>54400</td>\n",
              "      <td>RENT</td>\n",
              "      <td>8.0</td>\n",
              "      <td>MEDICAL</td>\n",
              "      <td>C</td>\n",
              "      <td>35000</td>\n",
              "      <td>14.27</td>\n",
              "      <td>1</td>\n",
              "      <td>0.55</td>\n",
              "      <td>Y</td>\n",
              "      <td>4</td>\n",
              "    </tr>\n",
              "  </tbody>\n",
              "</table>\n",
              "</div>"
            ],
            "text/plain": [
              "   person_age  ...  cb_person_cred_hist_length\n",
              "0          22  ...                           3\n",
              "1          21  ...                           2\n",
              "2          25  ...                           3\n",
              "3          23  ...                           2\n",
              "4          24  ...                           4\n",
              "\n",
              "[5 rows x 12 columns]"
            ]
          },
          "metadata": {
            "tags": []
          },
          "execution_count": 3
        }
      ]
    },
    {
      "cell_type": "markdown",
      "metadata": {
        "id": "MHURZ6oXqaNF",
        "colab_type": "text"
      },
      "source": [
        "### Examine the data"
      ]
    },
    {
      "cell_type": "code",
      "metadata": {
        "id": "HhhF9SS_rAyh",
        "colab_type": "code",
        "colab": {
          "base_uri": "https://localhost:8080/",
          "height": 340
        },
        "outputId": "13fbc80d-d245-4f95-a23c-4e6c6c7be21e"
      },
      "source": [
        "loan_df.info()"
      ],
      "execution_count": 4,
      "outputs": [
        {
          "output_type": "stream",
          "text": [
            "<class 'pandas.core.frame.DataFrame'>\n",
            "RangeIndex: 32581 entries, 0 to 32580\n",
            "Data columns (total 12 columns):\n",
            " #   Column                      Non-Null Count  Dtype  \n",
            "---  ------                      --------------  -----  \n",
            " 0   person_age                  32581 non-null  int64  \n",
            " 1   person_income               32581 non-null  int64  \n",
            " 2   person_home_ownership       32581 non-null  object \n",
            " 3   person_emp_length           31686 non-null  float64\n",
            " 4   loan_intent                 32581 non-null  object \n",
            " 5   loan_grade                  32581 non-null  object \n",
            " 6   loan_amnt                   32581 non-null  int64  \n",
            " 7   loan_int_rate               29465 non-null  float64\n",
            " 8   loan_status                 32581 non-null  int64  \n",
            " 9   loan_percent_income         32581 non-null  float64\n",
            " 10  cb_person_default_on_file   32581 non-null  object \n",
            " 11  cb_person_cred_hist_length  32581 non-null  int64  \n",
            "dtypes: float64(3), int64(5), object(4)\n",
            "memory usage: 3.0+ MB\n"
          ],
          "name": "stdout"
        }
      ]
    },
    {
      "cell_type": "code",
      "metadata": {
        "id": "g_vgubMxrD8y",
        "colab_type": "code",
        "colab": {
          "base_uri": "https://localhost:8080/",
          "height": 88
        },
        "outputId": "d82cefcd-103c-4c38-c62c-d7e1b5629c2c"
      },
      "source": [
        "# Get list of numerical and categorical columns\n",
        "num_cols = loan_df.select_dtypes(include=np.number).columns.tolist()\n",
        "print('Numerical columns in data:- {}'.format(num_cols))\n",
        "cat_cols = loan_df.select_dtypes(include='O').columns.tolist()\n",
        "print('\\nCategorical columns in data:- {}'.format(cat_cols))"
      ],
      "execution_count": 5,
      "outputs": [
        {
          "output_type": "stream",
          "text": [
            "Numerical columns in data:- ['person_age', 'person_income', 'person_emp_length', 'loan_amnt', 'loan_int_rate', 'loan_status', 'loan_percent_income', 'cb_person_cred_hist_length']\n",
            "\n",
            "Categorical columns in data:- ['person_home_ownership', 'loan_intent', 'loan_grade', 'cb_person_default_on_file']\n"
          ],
          "name": "stdout"
        }
      ]
    },
    {
      "cell_type": "code",
      "metadata": {
        "id": "-lMa_QI_sAbf",
        "colab_type": "code",
        "colab": {
          "base_uri": "https://localhost:8080/",
          "height": 34
        },
        "outputId": "863374d6-b0a6-4459-9b09-b20d41d63fae"
      },
      "source": [
        "#we need to verify the duplicate data\n",
        "print('Number of duplicate rows in dataframe:- {}'.format(loan_df.duplicated().\\\n",
        "                                                          sum()))"
      ],
      "execution_count": 6,
      "outputs": [
        {
          "output_type": "stream",
          "text": [
            "Number of duplicate rows in dataframe:- 165\n"
          ],
          "name": "stdout"
        }
      ]
    },
    {
      "cell_type": "code",
      "metadata": {
        "id": "ns4TSQoCtPrz",
        "colab_type": "code",
        "colab": {
          "base_uri": "https://localhost:8080/",
          "height": 238
        },
        "outputId": "9bf05438-11c2-449e-9168-24455aae3371"
      },
      "source": [
        "#verify if there is null values in dataframe\n",
        "loan_df.isnull().sum()"
      ],
      "execution_count": 7,
      "outputs": [
        {
          "output_type": "execute_result",
          "data": {
            "text/plain": [
              "person_age                       0\n",
              "person_income                    0\n",
              "person_home_ownership            0\n",
              "person_emp_length              895\n",
              "loan_intent                      0\n",
              "loan_grade                       0\n",
              "loan_amnt                        0\n",
              "loan_int_rate                 3116\n",
              "loan_status                      0\n",
              "loan_percent_income              0\n",
              "cb_person_default_on_file        0\n",
              "cb_person_cred_hist_length       0\n",
              "dtype: int64"
            ]
          },
          "metadata": {
            "tags": []
          },
          "execution_count": 7
        }
      ]
    },
    {
      "cell_type": "code",
      "metadata": {
        "id": "2UGVdYYoNPtI",
        "colab_type": "code",
        "colab": {
          "base_uri": "https://localhost:8080/",
          "height": 34
        },
        "outputId": "cb8d4291-9a57-415d-cc00-5b6326ab6258"
      },
      "source": [
        "loan_df.loan_int_rate.mean()"
      ],
      "execution_count": 8,
      "outputs": [
        {
          "output_type": "execute_result",
          "data": {
            "text/plain": [
              "11.01169489224439"
            ]
          },
          "metadata": {
            "tags": []
          },
          "execution_count": 8
        }
      ]
    },
    {
      "cell_type": "markdown",
      "metadata": {
        "id": "g2Boh1R_t0j8",
        "colab_type": "text"
      },
      "source": [
        "There are 895 nulls in 'pesron_emp_length' and 3116 null values in loan_int_rate. We can impute Employment length using median but cannot impute interest rate , as it might be an important factor in determining the defaulter, so we need to delete rows having null in this field."
      ]
    },
    {
      "cell_type": "code",
      "metadata": {
        "id": "OTHs8JntsN4X",
        "colab_type": "code",
        "colab": {
          "base_uri": "https://localhost:8080/",
          "height": 297
        },
        "outputId": "f77566f9-9ab1-431e-92b9-f34588e2172b"
      },
      "source": [
        "# Numerical columns statistics\n",
        "loan_df.describe()"
      ],
      "execution_count": 9,
      "outputs": [
        {
          "output_type": "execute_result",
          "data": {
            "text/html": [
              "<div>\n",
              "<style scoped>\n",
              "    .dataframe tbody tr th:only-of-type {\n",
              "        vertical-align: middle;\n",
              "    }\n",
              "\n",
              "    .dataframe tbody tr th {\n",
              "        vertical-align: top;\n",
              "    }\n",
              "\n",
              "    .dataframe thead th {\n",
              "        text-align: right;\n",
              "    }\n",
              "</style>\n",
              "<table border=\"1\" class=\"dataframe\">\n",
              "  <thead>\n",
              "    <tr style=\"text-align: right;\">\n",
              "      <th></th>\n",
              "      <th>person_age</th>\n",
              "      <th>person_income</th>\n",
              "      <th>person_emp_length</th>\n",
              "      <th>loan_amnt</th>\n",
              "      <th>loan_int_rate</th>\n",
              "      <th>loan_status</th>\n",
              "      <th>loan_percent_income</th>\n",
              "      <th>cb_person_cred_hist_length</th>\n",
              "    </tr>\n",
              "  </thead>\n",
              "  <tbody>\n",
              "    <tr>\n",
              "      <th>count</th>\n",
              "      <td>32581.000000</td>\n",
              "      <td>3.258100e+04</td>\n",
              "      <td>31686.000000</td>\n",
              "      <td>32581.000000</td>\n",
              "      <td>29465.000000</td>\n",
              "      <td>32581.000000</td>\n",
              "      <td>32581.000000</td>\n",
              "      <td>32581.000000</td>\n",
              "    </tr>\n",
              "    <tr>\n",
              "      <th>mean</th>\n",
              "      <td>27.734600</td>\n",
              "      <td>6.607485e+04</td>\n",
              "      <td>4.789686</td>\n",
              "      <td>9589.371106</td>\n",
              "      <td>11.011695</td>\n",
              "      <td>0.218164</td>\n",
              "      <td>0.170203</td>\n",
              "      <td>5.804211</td>\n",
              "    </tr>\n",
              "    <tr>\n",
              "      <th>std</th>\n",
              "      <td>6.348078</td>\n",
              "      <td>6.198312e+04</td>\n",
              "      <td>4.142630</td>\n",
              "      <td>6322.086646</td>\n",
              "      <td>3.240459</td>\n",
              "      <td>0.413006</td>\n",
              "      <td>0.106782</td>\n",
              "      <td>4.055001</td>\n",
              "    </tr>\n",
              "    <tr>\n",
              "      <th>min</th>\n",
              "      <td>20.000000</td>\n",
              "      <td>4.000000e+03</td>\n",
              "      <td>0.000000</td>\n",
              "      <td>500.000000</td>\n",
              "      <td>5.420000</td>\n",
              "      <td>0.000000</td>\n",
              "      <td>0.000000</td>\n",
              "      <td>2.000000</td>\n",
              "    </tr>\n",
              "    <tr>\n",
              "      <th>25%</th>\n",
              "      <td>23.000000</td>\n",
              "      <td>3.850000e+04</td>\n",
              "      <td>2.000000</td>\n",
              "      <td>5000.000000</td>\n",
              "      <td>7.900000</td>\n",
              "      <td>0.000000</td>\n",
              "      <td>0.090000</td>\n",
              "      <td>3.000000</td>\n",
              "    </tr>\n",
              "    <tr>\n",
              "      <th>50%</th>\n",
              "      <td>26.000000</td>\n",
              "      <td>5.500000e+04</td>\n",
              "      <td>4.000000</td>\n",
              "      <td>8000.000000</td>\n",
              "      <td>10.990000</td>\n",
              "      <td>0.000000</td>\n",
              "      <td>0.150000</td>\n",
              "      <td>4.000000</td>\n",
              "    </tr>\n",
              "    <tr>\n",
              "      <th>75%</th>\n",
              "      <td>30.000000</td>\n",
              "      <td>7.920000e+04</td>\n",
              "      <td>7.000000</td>\n",
              "      <td>12200.000000</td>\n",
              "      <td>13.470000</td>\n",
              "      <td>0.000000</td>\n",
              "      <td>0.230000</td>\n",
              "      <td>8.000000</td>\n",
              "    </tr>\n",
              "    <tr>\n",
              "      <th>max</th>\n",
              "      <td>144.000000</td>\n",
              "      <td>6.000000e+06</td>\n",
              "      <td>123.000000</td>\n",
              "      <td>35000.000000</td>\n",
              "      <td>23.220000</td>\n",
              "      <td>1.000000</td>\n",
              "      <td>0.830000</td>\n",
              "      <td>30.000000</td>\n",
              "    </tr>\n",
              "  </tbody>\n",
              "</table>\n",
              "</div>"
            ],
            "text/plain": [
              "         person_age  ...  cb_person_cred_hist_length\n",
              "count  32581.000000  ...                32581.000000\n",
              "mean      27.734600  ...                    5.804211\n",
              "std        6.348078  ...                    4.055001\n",
              "min       20.000000  ...                    2.000000\n",
              "25%       23.000000  ...                    3.000000\n",
              "50%       26.000000  ...                    4.000000\n",
              "75%       30.000000  ...                    8.000000\n",
              "max      144.000000  ...                   30.000000\n",
              "\n",
              "[8 rows x 8 columns]"
            ]
          },
          "metadata": {
            "tags": []
          },
          "execution_count": 9
        }
      ]
    },
    {
      "cell_type": "markdown",
      "metadata": {
        "id": "i37ZASbvsXJc",
        "colab_type": "text"
      },
      "source": [
        "As shown above , the maximum **age** of a person is **144 years**, which is an outlier.\n",
        "In 'person_emp_length' column, the maximum value is **123 years**, which is also an outlier.\n"
      ]
    },
    {
      "cell_type": "code",
      "metadata": {
        "id": "cOUVV1SqsUfX",
        "colab_type": "code",
        "colab": {
          "base_uri": "https://localhost:8080/",
          "height": 173
        },
        "outputId": "9145cf5a-52ab-4b41-94cd-3bf9b12f247d"
      },
      "source": [
        "# Categorical columns statistics\n",
        "loan_df.describe(include='O')"
      ],
      "execution_count": 10,
      "outputs": [
        {
          "output_type": "execute_result",
          "data": {
            "text/html": [
              "<div>\n",
              "<style scoped>\n",
              "    .dataframe tbody tr th:only-of-type {\n",
              "        vertical-align: middle;\n",
              "    }\n",
              "\n",
              "    .dataframe tbody tr th {\n",
              "        vertical-align: top;\n",
              "    }\n",
              "\n",
              "    .dataframe thead th {\n",
              "        text-align: right;\n",
              "    }\n",
              "</style>\n",
              "<table border=\"1\" class=\"dataframe\">\n",
              "  <thead>\n",
              "    <tr style=\"text-align: right;\">\n",
              "      <th></th>\n",
              "      <th>person_home_ownership</th>\n",
              "      <th>loan_intent</th>\n",
              "      <th>loan_grade</th>\n",
              "      <th>cb_person_default_on_file</th>\n",
              "    </tr>\n",
              "  </thead>\n",
              "  <tbody>\n",
              "    <tr>\n",
              "      <th>count</th>\n",
              "      <td>32581</td>\n",
              "      <td>32581</td>\n",
              "      <td>32581</td>\n",
              "      <td>32581</td>\n",
              "    </tr>\n",
              "    <tr>\n",
              "      <th>unique</th>\n",
              "      <td>4</td>\n",
              "      <td>6</td>\n",
              "      <td>7</td>\n",
              "      <td>2</td>\n",
              "    </tr>\n",
              "    <tr>\n",
              "      <th>top</th>\n",
              "      <td>RENT</td>\n",
              "      <td>EDUCATION</td>\n",
              "      <td>A</td>\n",
              "      <td>N</td>\n",
              "    </tr>\n",
              "    <tr>\n",
              "      <th>freq</th>\n",
              "      <td>16446</td>\n",
              "      <td>6453</td>\n",
              "      <td>10777</td>\n",
              "      <td>26836</td>\n",
              "    </tr>\n",
              "  </tbody>\n",
              "</table>\n",
              "</div>"
            ],
            "text/plain": [
              "       person_home_ownership loan_intent loan_grade cb_person_default_on_file\n",
              "count                  32581       32581      32581                     32581\n",
              "unique                     4           6          7                         2\n",
              "top                     RENT   EDUCATION          A                         N\n",
              "freq                   16446        6453      10777                     26836"
            ]
          },
          "metadata": {
            "tags": []
          },
          "execution_count": 10
        }
      ]
    },
    {
      "cell_type": "code",
      "metadata": {
        "id": "TLriD7TAn8EA",
        "colab_type": "code",
        "colab": {
          "base_uri": "https://localhost:8080/",
          "height": 68
        },
        "outputId": "6a594f37-320b-4ddc-e958-7902e48ad8be"
      },
      "source": [
        "# Calculate percentage of loan defaults\n",
        "loan_df.loan_status.value_counts(normalize=True)"
      ],
      "execution_count": null,
      "outputs": [
        {
          "output_type": "execute_result",
          "data": {
            "text/plain": [
              "0    0.781836\n",
              "1    0.218164\n",
              "Name: loan_status, dtype: float64"
            ]
          },
          "metadata": {
            "tags": []
          },
          "execution_count": 13
        }
      ]
    },
    {
      "cell_type": "markdown",
      "metadata": {
        "id": "XyNd8KYOuFMz",
        "colab_type": "text"
      },
      "source": [
        "### ---- 3 Clean the data ----"
      ]
    },
    {
      "cell_type": "code",
      "metadata": {
        "id": "RtDWhLi1tNwn",
        "colab_type": "code",
        "colab": {
          "base_uri": "https://localhost:8080/",
          "height": 51
        },
        "outputId": "0b353f0d-aa87-4363-9684-0f03b24e5085"
      },
      "source": [
        "# drop dulicate rows\n",
        "print('No of rows in the dataframe before change:- {}'.format(loan_df.shape[0]))\n",
        "loan_df.drop_duplicates(inplace=True)\n",
        "print('No of rows in the dataframe after change:-  {}'.format(loan_df.shape[0]))"
      ],
      "execution_count": 11,
      "outputs": [
        {
          "output_type": "stream",
          "text": [
            "No of rows in the dataframe before change:- 32581\n",
            "No of rows in the dataframe after change:-  32416\n"
          ],
          "name": "stdout"
        }
      ]
    },
    {
      "cell_type": "code",
      "metadata": {
        "id": "tNq7df6luS0c",
        "colab_type": "code",
        "colab": {}
      },
      "source": [
        "# delete row having age gearter than 100, employment length greater than 60 & \n",
        "# interest rate is null\n",
        "indices = loan_df[(loan_df.person_age > 100) | \n",
        "                  (loan_df.person_emp_length > 60)].index\n",
        "                  # (loan_df.loan_int_rate.isnull())].index\n",
        "# print(indices)\n",
        "loan_df.drop(indices, inplace=True)"
      ],
      "execution_count": 12,
      "outputs": []
    },
    {
      "cell_type": "code",
      "metadata": {
        "id": "0pDaT0KRuc5b",
        "colab_type": "code",
        "colab": {
          "base_uri": "https://localhost:8080/",
          "height": 238
        },
        "outputId": "32fbc165-d872-4d7f-ea8a-06ff07ca3f16"
      },
      "source": [
        "# Verify the no of Nulls remaining \n",
        "loan_df.isnull().sum()"
      ],
      "execution_count": null,
      "outputs": [
        {
          "output_type": "execute_result",
          "data": {
            "text/plain": [
              "person_age                       0\n",
              "person_income                    0\n",
              "person_home_ownership            0\n",
              "person_emp_length              887\n",
              "loan_intent                      0\n",
              "loan_grade                       0\n",
              "loan_amnt                        0\n",
              "loan_int_rate                 3094\n",
              "loan_status                      0\n",
              "loan_percent_income              0\n",
              "cb_person_default_on_file        0\n",
              "cb_person_cred_hist_length       0\n",
              "dtype: int64"
            ]
          },
          "metadata": {
            "tags": []
          },
          "execution_count": 16
        }
      ]
    },
    {
      "cell_type": "code",
      "metadata": {
        "id": "IcicWjE-oxnY",
        "colab_type": "code",
        "colab": {
          "base_uri": "https://localhost:8080/",
          "height": 142
        },
        "outputId": "f435d385-f869-4fcc-f768-45ead5bad5ee"
      },
      "source": [
        "loan_df_group = loan_df.groupby('loan_status')\n",
        "loan_df_group.mean()"
      ],
      "execution_count": 13,
      "outputs": [
        {
          "output_type": "execute_result",
          "data": {
            "text/html": [
              "<div>\n",
              "<style scoped>\n",
              "    .dataframe tbody tr th:only-of-type {\n",
              "        vertical-align: middle;\n",
              "    }\n",
              "\n",
              "    .dataframe tbody tr th {\n",
              "        vertical-align: top;\n",
              "    }\n",
              "\n",
              "    .dataframe thead th {\n",
              "        text-align: right;\n",
              "    }\n",
              "</style>\n",
              "<table border=\"1\" class=\"dataframe\">\n",
              "  <thead>\n",
              "    <tr style=\"text-align: right;\">\n",
              "      <th></th>\n",
              "      <th>person_age</th>\n",
              "      <th>person_income</th>\n",
              "      <th>person_emp_length</th>\n",
              "      <th>loan_amnt</th>\n",
              "      <th>loan_int_rate</th>\n",
              "      <th>loan_percent_income</th>\n",
              "      <th>cb_person_cred_hist_length</th>\n",
              "    </tr>\n",
              "    <tr>\n",
              "      <th>loan_status</th>\n",
              "      <th></th>\n",
              "      <th></th>\n",
              "      <th></th>\n",
              "      <th></th>\n",
              "      <th></th>\n",
              "      <th></th>\n",
              "      <th></th>\n",
              "    </tr>\n",
              "  </thead>\n",
              "  <tbody>\n",
              "    <tr>\n",
              "      <th>0</th>\n",
              "      <td>27.802298</td>\n",
              "      <td>70597.359070</td>\n",
              "      <td>4.965729</td>\n",
              "      <td>9239.335927</td>\n",
              "      <td>10.439097</td>\n",
              "      <td>0.148803</td>\n",
              "      <td>5.846491</td>\n",
              "    </tr>\n",
              "    <tr>\n",
              "      <th>1</th>\n",
              "      <td>27.475169</td>\n",
              "      <td>49093.100451</td>\n",
              "      <td>4.118848</td>\n",
              "      <td>10854.073787</td>\n",
              "      <td>13.067315</td>\n",
              "      <td>0.246858</td>\n",
              "      <td>5.685102</td>\n",
              "    </tr>\n",
              "  </tbody>\n",
              "</table>\n",
              "</div>"
            ],
            "text/plain": [
              "             person_age  ...  cb_person_cred_hist_length\n",
              "loan_status              ...                            \n",
              "0             27.802298  ...                    5.846491\n",
              "1             27.475169  ...                    5.685102\n",
              "\n",
              "[2 rows x 7 columns]"
            ]
          },
          "metadata": {
            "tags": []
          },
          "execution_count": 13
        }
      ]
    },
    {
      "cell_type": "markdown",
      "metadata": {
        "id": "0iTue9KopFM3",
        "colab_type": "text"
      },
      "source": [
        "From above table, we can observe that 'Loan_amount' and 'int_rate' is higher for persons who defaulted."
      ]
    },
    {
      "cell_type": "code",
      "metadata": {
        "id": "-OmJ9olPpxdJ",
        "colab_type": "code",
        "colab": {
          "base_uri": "https://localhost:8080/",
          "height": 142
        },
        "outputId": "dddd02ff-ccea-4848-c19c-cee1ecb3d340"
      },
      "source": [
        "loan_df_group.std()"
      ],
      "execution_count": null,
      "outputs": [
        {
          "output_type": "execute_result",
          "data": {
            "text/html": [
              "<div>\n",
              "<style scoped>\n",
              "    .dataframe tbody tr th:only-of-type {\n",
              "        vertical-align: middle;\n",
              "    }\n",
              "\n",
              "    .dataframe tbody tr th {\n",
              "        vertical-align: top;\n",
              "    }\n",
              "\n",
              "    .dataframe thead th {\n",
              "        text-align: right;\n",
              "    }\n",
              "</style>\n",
              "<table border=\"1\" class=\"dataframe\">\n",
              "  <thead>\n",
              "    <tr style=\"text-align: right;\">\n",
              "      <th></th>\n",
              "      <th>person_age</th>\n",
              "      <th>person_income</th>\n",
              "      <th>person_emp_length</th>\n",
              "      <th>loan_amnt</th>\n",
              "      <th>loan_int_rate</th>\n",
              "      <th>loan_percent_income</th>\n",
              "      <th>cb_person_cred_hist_length</th>\n",
              "    </tr>\n",
              "    <tr>\n",
              "      <th>loan_status</th>\n",
              "      <th></th>\n",
              "      <th></th>\n",
              "      <th></th>\n",
              "      <th></th>\n",
              "      <th></th>\n",
              "      <th></th>\n",
              "      <th></th>\n",
              "    </tr>\n",
              "  </thead>\n",
              "  <tbody>\n",
              "    <tr>\n",
              "      <th>0</th>\n",
              "      <td>6.155553</td>\n",
              "      <td>53934.776583</td>\n",
              "      <td>4.063200</td>\n",
              "      <td>6013.850023</td>\n",
              "      <td>2.983201</td>\n",
              "      <td>0.087114</td>\n",
              "      <td>4.018331</td>\n",
              "    </tr>\n",
              "    <tr>\n",
              "      <th>1</th>\n",
              "      <td>6.218546</td>\n",
              "      <td>35966.966037</td>\n",
              "      <td>3.873704</td>\n",
              "      <td>7138.114426</td>\n",
              "      <td>3.290878</td>\n",
              "      <td>0.132446</td>\n",
              "      <td>4.089470</td>\n",
              "    </tr>\n",
              "  </tbody>\n",
              "</table>\n",
              "</div>"
            ],
            "text/plain": [
              "             person_age  ...  cb_person_cred_hist_length\n",
              "loan_status              ...                            \n",
              "0              6.155553  ...                    4.018331\n",
              "1              6.218546  ...                    4.089470\n",
              "\n",
              "[2 rows x 7 columns]"
            ]
          },
          "metadata": {
            "tags": []
          },
          "execution_count": 30
        }
      ]
    },
    {
      "cell_type": "markdown",
      "metadata": {
        "id": "ToiNxXewu6wo",
        "colab_type": "text"
      },
      "source": [
        "### ---- 4 Explore the data (EDA) ----"
      ]
    },
    {
      "cell_type": "code",
      "metadata": {
        "id": "dGEJQxi3OZQ-",
        "colab_type": "code",
        "colab": {
          "base_uri": "https://localhost:8080/",
          "height": 297
        },
        "outputId": "c6fce40a-9434-4cd5-ea81-fcdb4e75037a"
      },
      "source": [
        "sns.countplot(loan_df.loan_status)"
      ],
      "execution_count": 14,
      "outputs": [
        {
          "output_type": "execute_result",
          "data": {
            "text/plain": [
              "<matplotlib.axes._subplots.AxesSubplot at 0x7f44798dcf60>"
            ]
          },
          "metadata": {
            "tags": []
          },
          "execution_count": 14
        },
        {
          "output_type": "display_data",
          "data": {
            "image/png": "[encoded data removed]",
            "text/plain": [
              "<Figure size 432x288 with 1 Axes>"
            ]
          },
          "metadata": {
            "tags": [],
            "needs_background": "light"
          }
        }
      ]
    },
    {
      "cell_type": "markdown",
      "metadata": {
        "id": "XUU8t_QQISK6",
        "colab_type": "text"
      },
      "source": [
        "### Independent Variable (Categorical)"
      ]
    },
    {
      "cell_type": "code",
      "metadata": {
        "id": "YZGdicJkJrIC",
        "colab_type": "code",
        "colab": {}
      },
      "source": [
        ""
      ],
      "execution_count": null,
      "outputs": []
    },
    {
      "cell_type": "code",
      "metadata": {
        "id": "IzK0jtxJIUd6",
        "colab_type": "code",
        "colab": {
          "base_uri": "https://localhost:8080/",
          "height": 297
        },
        "outputId": "6d77731a-9906-4297-d012-28938fbb9351"
      },
      "source": [
        "sns.countplot(loan_df.person_home_ownership)"
      ],
      "execution_count": 19,
      "outputs": [
        {
          "output_type": "execute_result",
          "data": {
            "text/plain": [
              "<matplotlib.axes._subplots.AxesSubplot at 0x7f4477a5cf60>"
            ]
          },
          "metadata": {
            "tags": []
          },
          "execution_count": 19
        },
        {
          "output_type": "display_data",
          "data": {
            "image/png": "[encoded data removed]",
            "text/plain": [
              "<Figure size 432x288 with 1 Axes>"
            ]
          },
          "metadata": {
            "tags": [],
            "needs_background": "light"
          }
        }
      ]
    },
    {
      "cell_type": "code",
      "metadata": {
        "id": "_nANXA6nIcDH",
        "colab_type": "code",
        "colab": {
          "base_uri": "https://localhost:8080/",
          "height": 605
        },
        "outputId": "029cfa96-9ac0-4162-fba0-4cadad66fcb9"
      },
      "source": [
        "plt.figure(1) \n",
        "plt.subplot(221) \n",
        "loan_df['person_home_ownership'].value_counts(normalize=True).plot.bar(figsize=(20,10), title= 'person_home_ownership') \n",
        "plt.subplot(222) \n",
        "loan_df['loan_intent'].value_counts(normalize=True).plot.bar(title= 'loan_intent') \n",
        "plt.subplot(223) \n",
        "loan_df['loan_grade'].value_counts(normalize=True).plot.bar(title= 'loan_grade') \n",
        "plt.subplot(224) \n",
        "loan_df['cb_person_default_on_file'].value_counts(normalize=True).plot.bar(title= 'cb_person_default_on_file') \n",
        "plt.show()"
      ],
      "execution_count": 24,
      "outputs": [
        {
          "output_type": "display_data",
          "data": {
            "image/png": "[encoded data removed]",
            "text/plain": [
              "<Figure size 1440x720 with 4 Axes>"
            ]
          },
          "metadata": {
            "tags": [],
            "needs_background": "light"
          }
        }
      ]
    },
    {
      "cell_type": "code",
      "metadata": {
        "id": "k_FDbVTXGOUs",
        "colab_type": "code",
        "colab": {
          "base_uri": "https://localhost:8080/",
          "height": 297
        },
        "outputId": "c7191974-91ab-496a-b402-6f53663f5892"
      },
      "source": [
        "sns.countplot('loan_status', hue='person_home_ownership', data=loan_df)"
      ],
      "execution_count": 17,
      "outputs": [
        {
          "output_type": "execute_result",
          "data": {
            "text/plain": [
              "<matplotlib.axes._subplots.AxesSubplot at 0x7f44779e2390>"
            ]
          },
          "metadata": {
            "tags": []
          },
          "execution_count": 17
        },
        {
          "output_type": "display_data",
          "data": {
            "image/png": "[encoded data removed]",
            "text/plain": [
              "<Figure size 432x288 with 1 Axes>"
            ]
          },
          "metadata": {
            "tags": [],
            "needs_background": "light"
          }
        }
      ]
    },
    {
      "cell_type": "markdown",
      "metadata": {
        "id": "SsnHA1PKKUhw",
        "colab_type": "text"
      },
      "source": [
        "### Independent Variable (Numerical)"
      ]
    },
    {
      "cell_type": "code",
      "metadata": {
        "id": "6IALQHLgKUBZ",
        "colab_type": "code",
        "colab": {
          "base_uri": "https://localhost:8080/",
          "height": 335
        },
        "outputId": "529657b4-e52f-48c3-a7fe-e9ffc291b1a5"
      },
      "source": [
        "plt.figure(1) \n",
        "plt.subplot(121) \n",
        "sns.distplot(loan_df['person_age']); \n",
        "plt.subplot(122) \n",
        "loan_df['person_age'].plot.box(figsize=(16,5)) \n",
        "plt.show()"
      ],
      "execution_count": 25,
      "outputs": [
        {
          "output_type": "display_data",
          "data": {
            "image/png": "[encoded data removed]",
            "text/plain": [
              "<Figure size 1152x360 with 2 Axes>"
            ]
          },
          "metadata": {
            "tags": [],
            "needs_background": "light"
          }
        }
      ]
    },
    {
      "cell_type": "markdown",
      "metadata": {
        "id": "ZOuLgQT7KnHj",
        "colab_type": "text"
      },
      "source": [
        "It can be inferred that most of the data in the distribution of applicant income is towards left which means it is not normally distributed. We will try to make it normal in later sections as algorithms works better if the data is normally distributed."
      ]
    },
    {
      "cell_type": "markdown",
      "metadata": {
        "id": "WGfVMBH9KrUK",
        "colab_type": "text"
      },
      "source": [
        "The boxplot confirms the presence of a lot of outliers/extreme values. This can be due to people older than 60 years also applied for loan."
      ]
    },
    {
      "cell_type": "code",
      "metadata": {
        "id": "zw4cjFVZLPMp",
        "colab_type": "code",
        "colab": {
          "base_uri": "https://localhost:8080/",
          "height": 346
        },
        "outputId": "c9f48ede-e8e9-4569-dce5-ac34190b5090"
      },
      "source": [
        "plt.figure(1) \n",
        "plt.subplot(121) \n",
        "sns.distplot(loan_df['person_income']); \n",
        "plt.subplot(122) \n",
        "loan_df['person_income'].plot.box(figsize=(16,5)) \n",
        "plt.show()"
      ],
      "execution_count": 26,
      "outputs": [
        {
          "output_type": "display_data",
          "data": {
            "image/png": "[encoded data removed]",
            "text/plain": [
              "<Figure size 1152x360 with 2 Axes>"
            ]
          },
          "metadata": {
            "tags": [],
            "needs_background": "light"
          }
        }
      ]
    },
    {
      "cell_type": "markdown",
      "metadata": {
        "id": "390kah-LLXpo",
        "colab_type": "text"
      },
      "source": [
        "The boxplot confirms the presence of a lot of outliers/extreme values. This can be attributed to the income disparity in the society. Part of this can be driven by the fact that we are looking at people with different education levels. As we do not have any Education variable in dataset, we cannot segregate\n",
        "it."
      ]
    },
    {
      "cell_type": "code",
      "metadata": {
        "id": "Xi75Gh6lMxOX",
        "colab_type": "code",
        "colab": {
          "base_uri": "https://localhost:8080/",
          "height": 335
        },
        "outputId": "9d9b7fe4-8d15-44aa-ae84-0b460442efe8"
      },
      "source": [
        "plt.figure(1) \n",
        "plt.subplot(121) \n",
        "sns.distplot(loan_df['person_emp_length']); \n",
        "plt.subplot(122) \n",
        "loan_df['person_emp_length'].plot.box(figsize=(16,5)) \n",
        "plt.show()"
      ],
      "execution_count": 27,
      "outputs": [
        {
          "output_type": "display_data",
          "data": {
            "image/png": "[encoded data removed]",
            "text/plain": [
              "<Figure size 1152x360 with 2 Axes>"
            ]
          },
          "metadata": {
            "tags": [],
            "needs_background": "light"
          }
        }
      ]
    },
    {
      "cell_type": "code",
      "metadata": {
        "id": "3ClkJCliPVps",
        "colab_type": "code",
        "colab": {
          "base_uri": "https://localhost:8080/",
          "height": 335
        },
        "outputId": "0a66594b-003d-461c-cd6d-6d122f660001"
      },
      "source": [
        "plt.figure(1) \n",
        "plt.subplot(121) \n",
        "sns.distplot(loan_df['loan_amnt']); \n",
        "plt.subplot(122) \n",
        "loan_df['loan_amnt'].plot.box(figsize=(16,5)) \n",
        "plt.show()"
      ],
      "execution_count": 28,
      "outputs": [
        {
          "output_type": "display_data",
          "data": {
            "image/png": "[encoded data removed]",
            "text/plain": [
              "<Figure size 1152x360 with 2 Axes>"
            ]
          },
          "metadata": {
            "tags": [],
            "needs_background": "light"
          }
        }
      ]
    },
    {
      "cell_type": "code",
      "metadata": {
        "id": "v78JGvJmPi7X",
        "colab_type": "code",
        "colab": {
          "base_uri": "https://localhost:8080/",
          "height": 335
        },
        "outputId": "468923f5-f41e-4bf0-98db-cc36dcc2093a"
      },
      "source": [
        "plt.figure(1) \n",
        "plt.subplot(121) \n",
        "sns.distplot(loan_df['loan_int_rate']); \n",
        "plt.subplot(122) \n",
        "loan_df['loan_int_rate'].plot.box(figsize=(16,5)) \n",
        "plt.show()"
      ],
      "execution_count": 29,
      "outputs": [
        {
          "output_type": "display_data",
          "data": {
            "image/png": "[encoded data removed]",
            "text/plain": [
              "<Figure size 1152x360 with 2 Axes>"
            ]
          },
          "metadata": {
            "tags": [],
            "needs_background": "light"
          }
        }
      ]
    },
    {
      "cell_type": "code",
      "metadata": {
        "id": "aNZS8obTStlu",
        "colab_type": "code",
        "colab": {
          "base_uri": "https://localhost:8080/",
          "height": 335
        },
        "outputId": "03cab3fe-54cf-4aba-ce3c-6c7e2de31e46"
      },
      "source": [
        "plt.figure(1) \n",
        "plt.subplot(121) \n",
        "sns.distplot(loan_df['loan_percent_income']); \n",
        "plt.subplot(122) \n",
        "loan_df['loan_percent_income'].plot.box(figsize=(16,5)) \n",
        "plt.show()"
      ],
      "execution_count": 30,
      "outputs": [
        {
          "output_type": "display_data",
          "data": {
            "image/png": "[encoded data removed]",
            "text/plain": [
              "<Figure size 1152x360 with 2 Axes>"
            ]
          },
          "metadata": {
            "tags": [],
            "needs_background": "light"
          }
        }
      ]
    },
    {
      "cell_type": "markdown",
      "metadata": {
        "id": "-z0HbwfcS6iY",
        "colab_type": "text"
      },
      "source": [
        "## How to make it normal distribution????"
      ]
    },
    {
      "cell_type": "code",
      "metadata": {
        "id": "uKJ17NXnTCB4",
        "colab_type": "code",
        "colab": {}
      },
      "source": [
        "plt.figure(1) \n",
        "plt.subplot(121) \n",
        "sns.distplot(loan_df['loan_percent_income']); \n",
        "plt.subplot(122) \n",
        "loan_df['loan_percent_income'].plot.box(figsize=(16,5)) \n",
        "plt.show()"
      ],
      "execution_count": null,
      "outputs": []
    },
    {
      "cell_type": "code",
      "metadata": {
        "id": "nctt06EgTPmJ",
        "colab_type": "code",
        "colab": {
          "base_uri": "https://localhost:8080/",
          "height": 335
        },
        "outputId": "e7e83cad-3da8-4593-c5f9-a87349ca9661"
      },
      "source": [
        "plt.figure(1) \n",
        "plt.subplot(121) \n",
        "sns.distplot(loan_df['cb_person_cred_hist_length']); \n",
        "plt.subplot(122) \n",
        "loan_df['cb_person_cred_hist_length'].plot.box(figsize=(16,5)) \n",
        "plt.show()"
      ],
      "execution_count": 32,
      "outputs": [
        {
          "output_type": "display_data",
          "data": {
            "image/png": "[encoded data removed]",
            "text/plain": [
              "<Figure size 1152x360 with 2 Axes>"
            ]
          },
          "metadata": {
            "tags": [],
            "needs_background": "light"
          }
        }
      ]
    },
    {
      "cell_type": "markdown",
      "metadata": {
        "id": "VpoOb8UATZud",
        "colab_type": "text"
      },
      "source": [
        "## Bivariate Analysis"
      ]
    },
    {
      "cell_type": "code",
      "metadata": {
        "id": "6e0AbJ_lTZKe",
        "colab_type": "code",
        "colab": {
          "base_uri": "https://localhost:8080/",
          "height": 344
        },
        "outputId": "90a99ba9-eb42-450b-927d-077d282fb9b6"
      },
      "source": [
        "home_ownership=pd.crosstab(loan_df['person_home_ownership'],loan_df['loan_status']) \n",
        "home_ownership.div(home_ownership.sum(1).astype(float), axis=0).plot(kind=\"bar\", stacked=True, figsize=(4,4))"
      ],
      "execution_count": 40,
      "outputs": [
        {
          "output_type": "execute_result",
          "data": {
            "text/plain": [
              "<matplotlib.axes._subplots.AxesSubplot at 0x7f4475eefa20>"
            ]
          },
          "metadata": {
            "tags": []
          },
          "execution_count": 40
        },
        {
          "output_type": "display_data",
          "data": {
            "image/png": "[encoded data removed]",
            "text/plain": [
              "<Figure size 288x288 with 1 Axes>"
            ]
          },
          "metadata": {
            "tags": [],
            "needs_background": "light"
          }
        }
      ]
    },
    {
      "cell_type": "markdown",
      "metadata": {
        "id": "zJLuVRFVbk-1",
        "colab_type": "text"
      },
      "source": [
        "#### Other & Rent ownership have more rejected loans"
      ]
    },
    {
      "cell_type": "code",
      "metadata": {
        "id": "_j0-aR8VbtaO",
        "colab_type": "code",
        "colab": {
          "base_uri": "https://localhost:8080/",
          "height": 396
        },
        "outputId": "e9bc251b-5889-4b76-ced4-8cf9ba5bb809"
      },
      "source": [
        "loan_intent=pd.crosstab(loan_df['loan_intent'],loan_df['loan_status']) \n",
        "loan_intent.div(loan_intent.sum(1).astype(float), axis=0).plot(kind=\"bar\", stacked=True, figsize=(4,4))"
      ],
      "execution_count": 41,
      "outputs": [
        {
          "output_type": "execute_result",
          "data": {
            "text/plain": [
              "<matplotlib.axes._subplots.AxesSubplot at 0x7f44798e5048>"
            ]
          },
          "metadata": {
            "tags": []
          },
          "execution_count": 41
        },
        {
          "output_type": "display_data",
          "data": {
            "image/png": "[encoded data removed]",
            "text/plain": [
              "<Figure size 288x288 with 1 Axes>"
            ]
          },
          "metadata": {
            "tags": [],
            "needs_background": "light"
          }
        }
      ]
    },
    {
      "cell_type": "code",
      "metadata": {
        "id": "oi5Cw4nWgMop",
        "colab_type": "code",
        "colab": {
          "base_uri": "https://localhost:8080/",
          "height": 295
        },
        "outputId": "de63ec51-607b-4943-a57b-4c19cdef5886"
      },
      "source": [
        "loan_grade=pd.crosstab(loan_df['loan_grade'],loan_df['loan_status']) \n",
        "loan_grade.div(loan_grade.sum(1).astype(float), axis=0).plot(kind=\"bar\", stacked=True, figsize=(4,4))"
      ],
      "execution_count": 42,
      "outputs": [
        {
          "output_type": "execute_result",
          "data": {
            "text/plain": [
              "<matplotlib.axes._subplots.AxesSubplot at 0x7f4477894048>"
            ]
          },
          "metadata": {
            "tags": []
          },
          "execution_count": 42
        },
        {
          "output_type": "display_data",
          "data": {
            "image/png": "[encoded data removed]",
            "text/plain": [
              "<Figure size 288x288 with 1 Axes>"
            ]
          },
          "metadata": {
            "tags": [],
            "needs_background": "light"
          }
        }
      ]
    },
    {
      "cell_type": "markdown",
      "metadata": {
        "id": "NsIZlzm_lmwe",
        "colab_type": "text"
      },
      "source": [
        "### D,E & F category have highest rejection "
      ]
    },
    {
      "cell_type": "code",
      "metadata": {
        "id": "z7plwF0Nl-lB",
        "colab_type": "code",
        "colab": {
          "base_uri": "https://localhost:8080/",
          "height": 295
        },
        "outputId": "4f8ff5d2-1672-4cc9-fcc8-f288eb01a6c0"
      },
      "source": [
        "default_on_file=pd.crosstab(loan_df['cb_person_default_on_file'],loan_df['loan_status']) \n",
        "default_on_file.div(default_on_file.sum(1).astype(float), axis=0).plot(kind=\"bar\", stacked=True, figsize=(4,4))"
      ],
      "execution_count": 46,
      "outputs": [
        {
          "output_type": "execute_result",
          "data": {
            "text/plain": [
              "<matplotlib.axes._subplots.AxesSubplot at 0x7f4475f268d0>"
            ]
          },
          "metadata": {
            "tags": []
          },
          "execution_count": 46
        },
        {
          "output_type": "display_data",
          "data": {
            "image/png": "[encoded data removed]",
            "text/plain": [
              "<Figure size 288x288 with 1 Axes>"
            ]
          },
          "metadata": {
            "tags": [],
            "needs_background": "light"
          }
        }
      ]
    },
    {
      "cell_type": "code",
      "metadata": {
        "id": "ONkApeXHj7PU",
        "colab_type": "code",
        "colab": {
          "base_uri": "https://localhost:8080/",
          "height": 170
        },
        "outputId": "c490ed47-0464-499a-ceb2-ce3e97ed3520"
      },
      "source": [
        "loan_df.loan_grade.value_counts()\n",
        "loan_grade=pd.crosstab(loan_df['loan_grade'],loan_df['loan_status']) \n",
        "print(loan_grade)"
      ],
      "execution_count": 45,
      "outputs": [
        {
          "output_type": "stream",
          "text": [
            "loan_status     0     1\n",
            "loan_grade             \n",
            "A            9636  1066\n",
            "B            8689  1695\n",
            "C            5100  1336\n",
            "D            1482  2137\n",
            "E             342   621\n",
            "F              71   170\n",
            "G               1    63\n"
          ],
          "name": "stdout"
        }
      ]
    },
    {
      "cell_type": "code",
      "metadata": {
        "id": "Pymxk7jDU8lU",
        "colab_type": "code",
        "colab": {
          "base_uri": "https://localhost:8080/",
          "height": 119
        },
        "outputId": "874183b5-16e9-4397-f455-0375690ab3ca"
      },
      "source": [
        "home_ownership.sum(1)"
      ],
      "execution_count": 38,
      "outputs": [
        {
          "output_type": "execute_result",
          "data": {
            "text/plain": [
              "person_home_ownership\n",
              "MORTGAGE    13366\n",
              "OTHER         106\n",
              "OWN          2563\n",
              "RENT        16374\n",
              "dtype: int64"
            ]
          },
          "metadata": {
            "tags": []
          },
          "execution_count": 38
        }
      ]
    },
    {
      "cell_type": "code",
      "metadata": {
        "id": "gk03ZYQqoNm9",
        "colab_type": "code",
        "colab": {}
      },
      "source": [
        ""
      ],
      "execution_count": null,
      "outputs": []
    },
    {
      "cell_type": "code",
      "metadata": {
        "id": "UOmVR6B7ukWq",
        "colab_type": "code",
        "colab": {}
      },
      "source": [
        "# loan_corr = loan_df.corr()"
      ],
      "execution_count": 18,
      "outputs": []
    },
    {
      "cell_type": "code",
      "metadata": {
        "id": "Ats7nmDbqegM",
        "colab_type": "code",
        "colab": {
          "base_uri": "https://localhost:8080/",
          "height": 297
        },
        "outputId": "4c165e6a-0888-4329-fd0c-47cb40b54655"
      },
      "source": [
        "loan_corr"
      ],
      "execution_count": null,
      "outputs": [
        {
          "output_type": "execute_result",
          "data": {
            "text/html": [
              "<div>\n",
              "<style scoped>\n",
              "    .dataframe tbody tr th:only-of-type {\n",
              "        vertical-align: middle;\n",
              "    }\n",
              "\n",
              "    .dataframe tbody tr th {\n",
              "        vertical-align: top;\n",
              "    }\n",
              "\n",
              "    .dataframe thead th {\n",
              "        text-align: right;\n",
              "    }\n",
              "</style>\n",
              "<table border=\"1\" class=\"dataframe\">\n",
              "  <thead>\n",
              "    <tr style=\"text-align: right;\">\n",
              "      <th></th>\n",
              "      <th>person_age</th>\n",
              "      <th>person_income</th>\n",
              "      <th>person_emp_length</th>\n",
              "      <th>loan_amnt</th>\n",
              "      <th>loan_int_rate</th>\n",
              "      <th>loan_status</th>\n",
              "      <th>loan_percent_income</th>\n",
              "      <th>cb_person_cred_hist_length</th>\n",
              "    </tr>\n",
              "  </thead>\n",
              "  <tbody>\n",
              "    <tr>\n",
              "      <th>person_age</th>\n",
              "      <td>1.000000</td>\n",
              "      <td>0.140372</td>\n",
              "      <td>0.175922</td>\n",
              "      <td>0.055755</td>\n",
              "      <td>0.011129</td>\n",
              "      <td>-0.021770</td>\n",
              "      <td>-0.040446</td>\n",
              "      <td>0.877517</td>\n",
              "    </tr>\n",
              "    <tr>\n",
              "      <th>person_income</th>\n",
              "      <td>0.140372</td>\n",
              "      <td>1.000000</td>\n",
              "      <td>0.160593</td>\n",
              "      <td>0.326803</td>\n",
              "      <td>-0.001019</td>\n",
              "      <td>-0.172188</td>\n",
              "      <td>-0.298871</td>\n",
              "      <td>0.121197</td>\n",
              "    </tr>\n",
              "    <tr>\n",
              "      <th>person_emp_length</th>\n",
              "      <td>0.175922</td>\n",
              "      <td>0.160593</td>\n",
              "      <td>1.000000</td>\n",
              "      <td>0.108559</td>\n",
              "      <td>-0.058474</td>\n",
              "      <td>-0.086718</td>\n",
              "      <td>-0.059980</td>\n",
              "      <td>0.151748</td>\n",
              "    </tr>\n",
              "    <tr>\n",
              "      <th>loan_amnt</th>\n",
              "      <td>0.055755</td>\n",
              "      <td>0.326803</td>\n",
              "      <td>0.108559</td>\n",
              "      <td>1.000000</td>\n",
              "      <td>0.146926</td>\n",
              "      <td>0.106920</td>\n",
              "      <td>0.572818</td>\n",
              "      <td>0.045513</td>\n",
              "    </tr>\n",
              "    <tr>\n",
              "      <th>loan_int_rate</th>\n",
              "      <td>0.011129</td>\n",
              "      <td>-0.001019</td>\n",
              "      <td>-0.058474</td>\n",
              "      <td>0.146926</td>\n",
              "      <td>1.000000</td>\n",
              "      <td>0.335812</td>\n",
              "      <td>0.120111</td>\n",
              "      <td>0.015855</td>\n",
              "    </tr>\n",
              "    <tr>\n",
              "      <th>loan_status</th>\n",
              "      <td>-0.021770</td>\n",
              "      <td>-0.172188</td>\n",
              "      <td>-0.086718</td>\n",
              "      <td>0.106920</td>\n",
              "      <td>0.335812</td>\n",
              "      <td>1.000000</td>\n",
              "      <td>0.379390</td>\n",
              "      <td>-0.015046</td>\n",
              "    </tr>\n",
              "    <tr>\n",
              "      <th>loan_percent_income</th>\n",
              "      <td>-0.040446</td>\n",
              "      <td>-0.298871</td>\n",
              "      <td>-0.059980</td>\n",
              "      <td>0.572818</td>\n",
              "      <td>0.120111</td>\n",
              "      <td>0.379390</td>\n",
              "      <td>1.000000</td>\n",
              "      <td>-0.030017</td>\n",
              "    </tr>\n",
              "    <tr>\n",
              "      <th>cb_person_cred_hist_length</th>\n",
              "      <td>0.877517</td>\n",
              "      <td>0.121197</td>\n",
              "      <td>0.151748</td>\n",
              "      <td>0.045513</td>\n",
              "      <td>0.015855</td>\n",
              "      <td>-0.015046</td>\n",
              "      <td>-0.030017</td>\n",
              "      <td>1.000000</td>\n",
              "    </tr>\n",
              "  </tbody>\n",
              "</table>\n",
              "</div>"
            ],
            "text/plain": [
              "                            person_age  ...  cb_person_cred_hist_length\n",
              "person_age                    1.000000  ...                    0.877517\n",
              "person_income                 0.140372  ...                    0.121197\n",
              "person_emp_length             0.175922  ...                    0.151748\n",
              "loan_amnt                     0.055755  ...                    0.045513\n",
              "loan_int_rate                 0.011129  ...                    0.015855\n",
              "loan_status                  -0.021770  ...                   -0.015046\n",
              "loan_percent_income          -0.040446  ...                   -0.030017\n",
              "cb_person_cred_hist_length    0.877517  ...                    1.000000\n",
              "\n",
              "[8 rows x 8 columns]"
            ]
          },
          "metadata": {
            "tags": []
          },
          "execution_count": 35
        }
      ]
    },
    {
      "cell_type": "code",
      "metadata": {
        "id": "4d7_Ef10qlN0",
        "colab_type": "code",
        "colab": {
          "base_uri": "https://localhost:8080/",
          "height": 414
        },
        "outputId": "421b6a2b-dae8-4142-88c3-f6ef3efcd14e"
      },
      "source": [
        "sns.heatmap(loan_corr)"
      ],
      "execution_count": null,
      "outputs": [
        {
          "output_type": "execute_result",
          "data": {
            "text/plain": [
              "<matplotlib.axes._subplots.AxesSubplot at 0x7fa9a1318048>"
            ]
          },
          "metadata": {
            "tags": []
          },
          "execution_count": 36
        },
        {
          "output_type": "display_data",
          "data": {
            "image/png": "[encoded data removed]",
            "text/plain": [
              "<Figure size 432x288 with 2 Axes>"
            ]
          },
          "metadata": {
            "tags": [],
            "needs_background": "light"
          }
        }
      ]
    },
    {
      "cell_type": "code",
      "metadata": {
        "id": "1k1nAx-4quSy",
        "colab_type": "code",
        "colab": {
          "base_uri": "https://localhost:8080/",
          "height": 422
        },
        "outputId": "406c8280-8ce4-4a72-cb7a-db90372cf83e"
      },
      "source": [
        "# Set up the matplotlib figure\n",
        "f, axes = plt.subplots(ncols=3, figsize=(20, 6))\n",
        "\n",
        "# Graph Employee Satisfaction\n",
        "sns.distplot(loan_df.loan_amnt, kde=False, color=\"g\", ax=axes[0]).set_title('Loan Amount Distribution')\n",
        "axes[0].set_ylabel('Loan Count')\n",
        "\n",
        "# Graph Employee Evaluation\n",
        "sns.distplot(loan_df.person_income, kde=False, color=\"r\", ax=axes[1]).set_title('Person Income Distribution')\n",
        "axes[1].set_ylabel('Loan Count')\n",
        "\n",
        "# Graph Employee Average Monthly Hours\n",
        "sns.distplot(loan_df.loan_int_rate, kde=False, color=\"b\", ax=axes[2]).set_title('Loan Interest Rate Distribution')\n",
        "axes[2].set_ylabel('Loan Count')"
      ],
      "execution_count": null,
      "outputs": [
        {
          "output_type": "execute_result",
          "data": {
            "text/plain": [
              "Text(0, 0.5, 'Loan Count')"
            ]
          },
          "metadata": {
            "tags": []
          },
          "execution_count": 51
        },
        {
          "output_type": "display_data",
          "data": {
            "image/png": "[encoded data removed]",
            "text/plain": [
              "<Figure size 1440x432 with 3 Axes>"
            ]
          },
          "metadata": {
            "tags": [],
            "needs_background": "light"
          }
        }
      ]
    },
    {
      "cell_type": "code",
      "metadata": {
        "id": "6gFVCB0Sv-NG",
        "colab_type": "code",
        "colab": {}
      },
      "source": [
        ""
      ],
      "execution_count": null,
      "outputs": []
    }
  ]
}